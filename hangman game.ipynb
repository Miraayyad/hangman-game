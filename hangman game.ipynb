{
 "cells": [
  {
   "cell_type": "markdown",
   "metadata": {},
   "source": [
    " Hangman Game"
   ]
  },
  {
   "cell_type": "code",
   "execution_count": 13,
   "metadata": {},
   "outputs": [],
   "source": [
    "import random\n",
    "from termcolor import colored"
   ]
  },
  {
   "cell_type": "code",
   "execution_count": 14,
   "metadata": {},
   "outputs": [
    {
     "name": "stdout",
     "output_type": "stream",
     "text": [
      "welcom to hangman game\n",
      "\n",
      "- - - -\n",
      "the letter dosen't appear in the word\n",
      "\n",
      "- - - -\n",
      "\n",
      "- t - -\n",
      "\n",
      "h t - -\n",
      "\n",
      "h t m -\n",
      "you guess and finsh the word\n",
      "\u001b[92mh t m l\u001b[0m\n",
      "\u001b[92myou win\u001b[0m\n"
     ]
    }
   ],
   "source": [
    "words= ['python','sql','html','css','javascript']\n",
    "\n",
    "chosen_word= random.choice(words)\n",
    "word_display = ['-' for _ in chosen_word] \n",
    "attepts=5  #num of allowed attempts 'try'\n",
    "\n",
    "print('welcom to hangman game')\n",
    "\n",
    "while attepts> 0 and '-' in word_display:\n",
    "    print('\\n'+' '.join(word_display))\n",
    "    guess = input('Guess a letter :').lower()\n",
    "    if guess in chosen_word:\n",
    "        for index, letter in enumerate(chosen_word):\n",
    "            if letter == guess:\n",
    "                word_display[index]= guess \n",
    "    else:\n",
    "        print(\"the letter dosen't appear in the word\")\n",
    "        attepts=attepts-1\n",
    "        \n",
    "if '-' not in word_display:\n",
    "    print('you guess and finsh the word')\n",
    "    print(colored(' '.join(word_display),'light_green'))\n",
    "    print(colored('you win','light_green'))\n",
    "else:\n",
    "    print('you ran out of attempts, the word was :'+ chosen_word)\n",
    "    print(colored('you loss','red'))\n",
    "    \n",
    "            \n"
   ]
  }
 ],
 "metadata": {
  "kernelspec": {
   "display_name": "Python 3",
   "language": "python",
   "name": "python3"
  },
  "language_info": {
   "codemirror_mode": {
    "name": "ipython",
    "version": 3
   },
   "file_extension": ".py",
   "mimetype": "text/x-python",
   "name": "python",
   "nbconvert_exporter": "python",
   "pygments_lexer": "ipython3",
   "version": "3.11.9"
  }
 },
 "nbformat": 4,
 "nbformat_minor": 2
}
