{
 "cells": [
  {
   "cell_type": "markdown",
   "metadata": {},
   "source": [
    " Hangman Game"
   ]
  },
  {
   "cell_type": "code",
   "execution_count": 11,
   "metadata": {},
   "outputs": [
    {
     "name": "stdout",
     "output_type": "stream",
     "text": [
      "Requirement already satisfied: colored in /usr/local/python/3.12.1/lib/python3.12/site-packages (2.2.5)\n",
      "\n",
      "\u001b[1m[\u001b[0m\u001b[34;49mnotice\u001b[0m\u001b[1;39;49m]\u001b[0m\u001b[39;49m A new release of pip is available: \u001b[0m\u001b[31;49m24.3.1\u001b[0m\u001b[39;49m -> \u001b[0m\u001b[32;49m25.0\u001b[0m\n",
      "\u001b[1m[\u001b[0m\u001b[34;49mnotice\u001b[0m\u001b[1;39;49m]\u001b[0m\u001b[39;49m To update, run: \u001b[0m\u001b[32;49mpython3 -m pip install --upgrade pip\u001b[0m\n",
      "Requirement already satisfied: termcolor in /usr/local/python/3.12.1/lib/python3.12/site-packages (2.5.0)\n",
      "\n",
      "\u001b[1m[\u001b[0m\u001b[34;49mnotice\u001b[0m\u001b[1;39;49m]\u001b[0m\u001b[39;49m A new release of pip is available: \u001b[0m\u001b[31;49m24.3.1\u001b[0m\u001b[39;49m -> \u001b[0m\u001b[32;49m25.0\u001b[0m\n",
      "\u001b[1m[\u001b[0m\u001b[34;49mnotice\u001b[0m\u001b[1;39;49m]\u001b[0m\u001b[39;49m To update, run: \u001b[0m\u001b[32;49mpython3 -m pip install --upgrade pip\u001b[0m\n"
     ]
    }
   ],
   "source": [
    "! pip install  colored\n",
    "! pip install termcolor\n"
   ]
  },
  {
   "cell_type": "code",
   "execution_count": 12,
   "metadata": {},
   "outputs": [],
   "source": [
    "import random\n",
    "from termcolor import colored"
   ]
  },
  {
   "cell_type": "code",
   "execution_count": 13,
   "metadata": {},
   "outputs": [
    {
     "name": "stdout",
     "output_type": "stream",
     "text": [
      "welcom to hangman game\n",
      "\n",
      "- - - - - - - - - -\n",
      "the letter dosen't appear in the word\n",
      "\n",
      "- - - - - - - - - -\n",
      "\n",
      "- - - - - - - - - t\n",
      "the letter dosen't appear in the word\n",
      "\n",
      "- - - - - - - - - t\n",
      "the letter dosen't appear in the word\n",
      "\n",
      "- - - - - - - - - t\n",
      "the letter dosen't appear in the word\n",
      "\n",
      "- - - - - - - - - t\n",
      "the letter dosen't appear in the word\n",
      "you ran out of attempts, the word was :javascript\n",
      "\u001b[31myou loss\u001b[0m\n"
     ]
    }
   ],
   "source": [
    "words= ['python','sql','html','css','javascript']\n",
    "\n",
    "chosen_word= random.choice(words)\n",
    "word_display = ['-' for _ in chosen_word] \n",
    "attepts=5  #num of allowed attempts 'try'\n",
    "\n",
    "print('welcom to hangman game')\n",
    "\n",
    "while attepts> 0 and '-' in word_display:\n",
    "    print('\\n'+' '.join(word_display))\n",
    "    guess = input('Guess a letter :').lower()\n",
    "    if guess in chosen_word:\n",
    "        for index, letter in enumerate(chosen_word):\n",
    "            if letter == guess:\n",
    "                word_display[index]= guess \n",
    "    else:\n",
    "        print(\"the letter dosen't appear in the word\")\n",
    "        attepts=attepts-1\n",
    "        \n",
    "if '-' not in word_display:\n",
    "    print('you guess and finsh the word')\n",
    "    print(colored(' '.join(word_display),'light_green'))\n",
    "    print(colored('you win','light_green'))\n",
    "else:\n",
    "    print('you ran out of attempts, the word was :'+ chosen_word)\n",
    "    print(colored('you loss','red'))\n",
    "    \n",
    "            \n"
   ]
  }
 ],
 "metadata": {
  "kernelspec": {
   "display_name": "Python 3",
   "language": "python",
   "name": "python3"
  },
  "language_info": {
   "codemirror_mode": {
    "name": "ipython",
    "version": 3
   },
   "file_extension": ".py",
   "mimetype": "text/x-python",
   "name": "python",
   "nbconvert_exporter": "python",
   "pygments_lexer": "ipython3",
   "version": "3.12.1"
  }
 },
 "nbformat": 4,
 "nbformat_minor": 2
}
